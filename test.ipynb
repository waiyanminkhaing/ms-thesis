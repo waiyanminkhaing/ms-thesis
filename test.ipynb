{
 "cells": [
  {
   "cell_type": "code",
   "execution_count": 12,
   "metadata": {},
   "outputs": [],
   "source": [
    "from transformers import AutoModelForMaskedLM, AutoTokenizer\n",
    "from peft import PeftModel\n",
    "import torch"
   ]
  },
  {
   "cell_type": "code",
   "execution_count": 13,
   "metadata": {},
   "outputs": [
    {
     "name": "stderr",
     "output_type": "stream",
     "text": [
      "Some weights of the model checkpoint at xlm-roberta-base were not used when initializing XLMRobertaForMaskedLM: ['roberta.pooler.dense.bias', 'roberta.pooler.dense.weight']\n",
      "- This IS expected if you are initializing XLMRobertaForMaskedLM from the checkpoint of a model trained on another task or with another architecture (e.g. initializing a BertForSequenceClassification model from a BertForPreTraining model).\n",
      "- This IS NOT expected if you are initializing XLMRobertaForMaskedLM from the checkpoint of a model that you expect to be exactly identical (initializing a BertForSequenceClassification model from a BertForSequenceClassification model).\n"
     ]
    }
   ],
   "source": [
    "# ✅ Load Base Model\n",
    "base_model_name = \"xlm-roberta-base\"\n",
    "model = AutoModelForMaskedLM.from_pretrained(base_model_name)"
   ]
  },
  {
   "cell_type": "code",
   "execution_count": 14,
   "metadata": {},
   "outputs": [],
   "source": [
    "# ✅ Load LoRA Weights\n",
    "lora_checkpoint_path = \"model-variants/models/XLM-R_BPE\"\n",
    "model = PeftModel.from_pretrained(model, lora_checkpoint_path)"
   ]
  },
  {
   "cell_type": "code",
   "execution_count": 15,
   "metadata": {},
   "outputs": [],
   "source": [
    "# ✅ Load Tokenizer\n",
    "tokenizer = AutoTokenizer.from_pretrained(lora_checkpoint_path)"
   ]
  },
  {
   "cell_type": "code",
   "execution_count": 16,
   "metadata": {},
   "outputs": [],
   "source": [
    "# ✅ Define Inference Function Using Masked Token Prediction\n",
    "def generate_predictions(model, tokenizer, sentences, top_k=5):\n",
    "    model.eval()  # Set model to evaluation mode\n",
    "\n",
    "    # Detect correct mask token\n",
    "    mask_token = tokenizer.mask_token  # Detects if it's [MASK] or <mask>\n",
    "\n",
    "    predictions = {}\n",
    "\n",
    "    for text in sentences:\n",
    "        if mask_token not in text:\n",
    "            print(f\"⚠️ Warning: No `{mask_token}` token found in '{text}'. Ensure the sentence has a masked token.\")\n",
    "            continue\n",
    "\n",
    "        # Tokenize input\n",
    "        inputs = tokenizer(text, return_tensors=\"pt\")\n",
    "        mask_index = (inputs.input_ids == tokenizer.mask_token_id).nonzero(as_tuple=True)[1]\n",
    "\n",
    "        if mask_index.numel() == 0:\n",
    "            print(f\"⚠️ Warning: No `{mask_token}` token found in '{text}'\")\n",
    "            continue\n",
    "\n",
    "        # Forward pass through the model\n",
    "        with torch.no_grad():\n",
    "            outputs = model(**inputs)\n",
    "\n",
    "        logits = outputs.logits  # (batch_size, seq_len, vocab_size)\n",
    "        \n",
    "        for idx in mask_index:\n",
    "            token_logits = logits[0, idx, :]  # Get logits for masked token position\n",
    "            top_k_tokens = torch.topk(token_logits, top_k, dim=-1).indices\n",
    "            top_k_words = [tokenizer.decode([token]) for token in top_k_tokens]\n",
    "\n",
    "            # Store results\n",
    "            predictions[text] = top_k_words\n",
    "\n",
    "    return predictions\n"
   ]
  },
  {
   "cell_type": "code",
   "execution_count": 17,
   "metadata": {},
   "outputs": [],
   "source": [
    "sentences = [\n",
    "    \"This is a <mask> example.\",  # Correct mask token for XLM-R\n",
    "    \"ဒီစာသားက <mask> ဖြစ်ပါတယ်။\"  # Correct mask token for XLM-R\n",
    "]"
   ]
  },
  {
   "cell_type": "code",
   "execution_count": 18,
   "metadata": {},
   "outputs": [],
   "source": [
    "xlmr_predictions = generate_predictions(model, tokenizer, sentences)"
   ]
  },
  {
   "cell_type": "code",
   "execution_count": 19,
   "metadata": {},
   "outputs": [
    {
     "data": {
      "text/plain": [
       "{'This is a <mask> example.': ['', 'နည်း', 'အ', 'ဥပမာ', 'ပုံ'],\n",
       " 'ဒီစာသားက <mask> ဖြစ်ပါတယ်။': ['', 'က', 'စာ', 'က', 'အ']}"
      ]
     },
     "execution_count": 19,
     "metadata": {},
     "output_type": "execute_result"
    }
   ],
   "source": [
    "xlmr_predictions"
   ]
  },
  {
   "cell_type": "code",
   "execution_count": null,
   "metadata": {},
   "outputs": [],
   "source": []
  }
 ],
 "metadata": {
  "kernelspec": {
   "display_name": "ms-thesis",
   "language": "python",
   "name": "python3"
  },
  "language_info": {
   "codemirror_mode": {
    "name": "ipython",
    "version": 3
   },
   "file_extension": ".py",
   "mimetype": "text/x-python",
   "name": "python",
   "nbconvert_exporter": "python",
   "pygments_lexer": "ipython3",
   "version": "3.10.16"
  }
 },
 "nbformat": 4,
 "nbformat_minor": 2
}
