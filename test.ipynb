{
 "cells": [
  {
   "cell_type": "code",
   "execution_count": 28,
   "metadata": {},
   "outputs": [],
   "source": [
    "import torch\n",
    "from transformers import AutoTokenizer, AutoModelForSeq2SeqLM\n",
    "from datasets import Dataset\n",
    "\n",
    "def generate_burmese_text(dataset, model, tokenizer, device=\"mps\", batch_size=16, max_length=256):\n",
    "    \"\"\"\n",
    "    Generates Burmese text from Burmese prompts using a Seq2Seq model.\n",
    "    \"\"\"\n",
    "\n",
    "    model.eval()  # Set model to evaluation mode\n",
    "\n",
    "    def predict_fn(batch):\n",
    "        # Tokenize Burmese input (instead of English)\n",
    "        inputs = tokenizer(\n",
    "            batch[\"burmese\"],  # Input should be Burmese text\n",
    "            padding=True,\n",
    "            truncation=True,\n",
    "            max_length=max_length,\n",
    "            return_tensors=\"pt\"\n",
    "        ).to(device)\n",
    "\n",
    "        # Generate text using the Seq2Seq model\n",
    "        with torch.no_grad():\n",
    "            output_tokens = model.generate(\n",
    "                **inputs,\n",
    "                max_length=max_length,\n",
    "                do_sample=True,  # Enables diverse outputs\n",
    "                top_k=50,  # Keeps high-quality token selection\n",
    "                top_p=0.95,  # Ensures better word diversity\n",
    "                temperature=0.6,  # Keeps Burmese fluency structured\n",
    "                repetition_penalty=1.8,  # Avoids repetition of words like \"အရည်အသွေး\"\n",
    "                num_beams=5  # Forces the model to generate more contextually correct Burmese\n",
    "            )\n",
    "\n",
    "        # Decode predictions\n",
    "        generated_texts = tokenizer.batch_decode(output_tokens, skip_special_tokens=True)\n",
    "\n",
    "        return {\"generated\": generated_texts}  # Return new column with generated text\n",
    "\n",
    "    # Apply batched processing\n",
    "    dataset = dataset.map(predict_fn, batched=True, batch_size=batch_size)\n",
    "\n",
    "    return dataset"
   ]
  },
  {
   "cell_type": "code",
   "execution_count": 29,
   "metadata": {},
   "outputs": [
    {
     "data": {
      "application/vnd.jupyter.widget-view+json": {
       "model_id": "53ade58412b74c15a858a7d407fdb3ed",
       "version_major": 2,
       "version_minor": 0
      },
      "text/plain": [
       "Map:   0%|          | 0/2 [00:00<?, ? examples/s]"
      ]
     },
     "metadata": {},
     "output_type": "display_data"
    },
    {
     "name": "stdout",
     "output_type": "stream",
     "text": [
      "🔹 Prompt: အထက် အီဂျစ်မှာ နူဘီးယား ကြမ်းပြင်ပြပွဲကို ကြည့်ဖို့ မထိုက်ပါဘူး။\n",
      "✅ Generated: အီဂျစ်မှာ နူဘီးယား ကြမ်းပြင် ပွဲကို ကြည့်ဖို့ မသေချာဘူး။\n",
      "\n",
      "🔹 Prompt: သူ့အလုပ်စွမ်းအားဟာ ကျယ်ပြန့်မှုနဲ့ အသေးစိတ်နည်းလမ်းရဲ့ ရလဒ်ပါ။\n",
      "✅ Generated: သူ့အလုပ် စွမ်းဆောင်ရည် ဟာ ကျယ်ပြန့်သော အရည်အသွေး နဲ့ အလွန် ကြီးမားတဲ့ ရလဒ်ပါ။\n",
      "\n"
     ]
    }
   ],
   "source": [
    "# Load trained translation model\n",
    "model_path = \"model-variants/models/mT5_BPE\"\n",
    "tokenizer = AutoTokenizer.from_pretrained(model_path, use_fast=False, legacy=True)\n",
    "model = AutoModelForSeq2SeqLM.from_pretrained(model_path).to(\"mps\")\n",
    "\n",
    "# Load dataset (Hugging Face Dataset format)\n",
    "test_dataset = Dataset.from_dict({\n",
    "    \"burmese\": [\"အထက် အီဂျစ်မှာ နူဘီးယား ကြမ်းပြင်ပြပွဲကို ကြည့်ဖို့ မထိုက်ပါဘူး။\", \"သူ့အလုပ်စွမ်းအားဟာ ကျယ်ပြန့်မှုနဲ့ အသေးစိတ်နည်းလမ်းရဲ့ ရလဒ်ပါ။\"],\n",
    "    \"english\": [\"it's not worth seeing the nubian floor exhibition in egypt.\", \"his workforce is the result of the method of expansion and detail.\"]\n",
    "})\n",
    "\n",
    "# Generate Burmese text\n",
    "predicted_dataset = generate_burmese_text(test_dataset, model, tokenizer, device=\"mps\", batch_size=16)\n",
    "\n",
    "# Print predictions\n",
    "for example in predicted_dataset:\n",
    "    print(f\"🔹 Prompt: {example['burmese']}\")\n",
    "    print(f\"✅ Generated: {example['generated']}\\n\")\n"
   ]
  },
  {
   "cell_type": "code",
   "execution_count": null,
   "metadata": {},
   "outputs": [],
   "source": []
  }
 ],
 "metadata": {
  "kernelspec": {
   "display_name": "ms-thesis",
   "language": "python",
   "name": "python3"
  },
  "language_info": {
   "codemirror_mode": {
    "name": "ipython",
    "version": 3
   },
   "file_extension": ".py",
   "mimetype": "text/x-python",
   "name": "python",
   "nbconvert_exporter": "python",
   "pygments_lexer": "ipython3",
   "version": "3.10.16"
  }
 },
 "nbformat": 4,
 "nbformat_minor": 2
}
