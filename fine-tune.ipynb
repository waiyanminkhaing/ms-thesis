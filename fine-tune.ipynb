{
 "cells": [
  {
   "cell_type": "code",
   "execution_count": null,
   "metadata": {},
   "outputs": [],
   "source": [
    "# ✅ Install Required Libraries\n",
    "!pip install torch transformers sentencepiece datasets peft accelerate pandas"
   ]
  },
  {
   "cell_type": "code",
   "execution_count": 2,
   "metadata": {},
   "outputs": [],
   "source": [
    "# 📌 Import Required Libraries\n",
    "import torch\n",
    "import pandas as pd\n",
    "import sentencepiece as spm\n",
    "from datasets import Dataset\n",
    "from transformers import AutoModelForMaskedLM, AutoTokenizer, Trainer, TrainingArguments, EarlyStoppingCallback\n",
    "from peft import LoraConfig, get_peft_model"
   ]
  },
  {
   "cell_type": "code",
   "execution_count": null,
   "metadata": {},
   "outputs": [],
   "source": [
    "# ✅ Check if GPU is Available\n",
    "device = torch.device(\"cuda\" if torch.cuda.is_available() else \"cpu\")\n",
    "print(f\"🚀 Using device: {device}\")"
   ]
  },
  {
   "cell_type": "code",
   "execution_count": 3,
   "metadata": {},
   "outputs": [],
   "source": [
    "device = \"mps\""
   ]
  },
  {
   "cell_type": "code",
   "execution_count": 4,
   "metadata": {},
   "outputs": [],
   "source": [
    "# ✅ Load and Split CSV Dataset\n",
    "dataset_path = \"model-variants/combined.csv\"\n",
    "df = pd.read_csv(dataset_path)"
   ]
  },
  {
   "cell_type": "code",
   "execution_count": 5,
   "metadata": {},
   "outputs": [],
   "source": [
    "# ✅ Split into 80% train, 20% test\n",
    "train_df = df.sample(frac=0.8, random_state=42)\n",
    "test_df = df.drop(train_df.index)"
   ]
  },
  {
   "cell_type": "code",
   "execution_count": 6,
   "metadata": {},
   "outputs": [],
   "source": [
    "# ✅ Convert to Hugging Face Dataset format\n",
    "train_dataset = Dataset.from_pandas(train_df.reset_index(drop=True))\n",
    "test_dataset = Dataset.from_pandas(test_df.reset_index(drop=True))"
   ]
  },
  {
   "cell_type": "code",
   "execution_count": 7,
   "metadata": {},
   "outputs": [],
   "source": [
    "# ✅ Load Pretrained XLM-R Model & Tokenizer\n",
    "model_name = \"xlm-roberta-base\"\n",
    "xlmr_tokenizer = AutoTokenizer.from_pretrained(model_name)"
   ]
  },
  {
   "cell_type": "code",
   "execution_count": 8,
   "metadata": {},
   "outputs": [],
   "source": [
    "# ✅ Load Pre-Trained SentencePiece Model (SPT-BPE)\n",
    "spt_bpe_model_path = \"spt/spt_bpe.model\"\n",
    "spt_bpe = spm.SentencePieceProcessor(model_file=spt_bpe_model_path)"
   ]
  },
  {
   "cell_type": "code",
   "execution_count": 12,
   "metadata": {},
   "outputs": [],
   "source": [
    "# ✅ Correct Tokenization Function to Handle Batches\n",
    "def tokenize_function(examples):\n",
    "    batch_source_tokens = [spt_bpe.encode(text, out_type=str) for text in examples[\"source\"]]\n",
    "    batch_target_tokens = [spt_bpe.encode(text, out_type=str) for text in examples[\"target\"]]\n",
    "\n",
    "    # ✅ Flatten and convert tokens to text\n",
    "    batch_source_texts = [\" \".join(tokens) for tokens in batch_source_tokens]\n",
    "    batch_target_texts = [\" \".join(tokens) for tokens in batch_target_tokens]\n",
    "\n",
    "    # ✅ Tokenize using XLM-R tokenizer\n",
    "    model_inputs = xlmr_tokenizer(batch_source_texts, padding=\"max_length\", truncation=True, max_length=512)\n",
    "    labels = xlmr_tokenizer(batch_target_texts, padding=\"max_length\", truncation=True, max_length=512)[\"input_ids\"]\n",
    "\n",
    "    model_inputs[\"labels\"] = labels  # ✅ Assign labels for MLM-style training\n",
    "\n",
    "    return model_inputs"
   ]
  },
  {
   "cell_type": "code",
   "execution_count": 13,
   "metadata": {},
   "outputs": [
    {
     "data": {
      "application/vnd.jupyter.widget-view+json": {
       "model_id": "771df3db44e14b6483e54365d1d6e56d",
       "version_major": 2,
       "version_minor": 0
      },
      "text/plain": [
       "Tokenizing Train Dataset:   0%|          | 0/1302061 [00:00<?, ? examples/s]"
      ]
     },
     "metadata": {},
     "output_type": "display_data"
    },
    {
     "data": {
      "application/vnd.jupyter.widget-view+json": {
       "model_id": "65106dd5bd7047638b33a8917e20c9d3",
       "version_major": 2,
       "version_minor": 0
      },
      "text/plain": [
       "Saving the dataset (0/19 shards):   0%|          | 0/1302061 [00:00<?, ? examples/s]"
      ]
     },
     "metadata": {},
     "output_type": "display_data"
    }
   ],
   "source": [
    "# ✅ Apply Tokenization to Dataset\n",
    "tokenized_train_dataset = train_dataset.map(tokenize_function, batched=True, batch_size=16, desc=\"Tokenizing Train Dataset\")\n",
    "tokenized_train_dataset.save_to_disk(f\"tokenized_train_dataset\")"
   ]
  },
  {
   "cell_type": "code",
   "execution_count": 14,
   "metadata": {},
   "outputs": [
    {
     "data": {
      "application/vnd.jupyter.widget-view+json": {
       "model_id": "6ff0369bbe134af5a6fcaf53029b4d82",
       "version_major": 2,
       "version_minor": 0
      },
      "text/plain": [
       "Tokenizing Test Dataset:   0%|          | 0/325515 [00:00<?, ? examples/s]"
      ]
     },
     "metadata": {},
     "output_type": "display_data"
    },
    {
     "data": {
      "application/vnd.jupyter.widget-view+json": {
       "model_id": "c6736cb4fe5646658d42a68f6a55abf4",
       "version_major": 2,
       "version_minor": 0
      },
      "text/plain": [
       "Saving the dataset (0/5 shards):   0%|          | 0/325515 [00:00<?, ? examples/s]"
      ]
     },
     "metadata": {},
     "output_type": "display_data"
    }
   ],
   "source": [
    "tokenized_test_dataset = test_dataset.map(tokenize_function, batched=True, batch_size=16, desc=\"Tokenizing Test Dataset\")\n",
    "tokenized_test_dataset.save_to_disk(f\"tokenized_test_dataset\")"
   ]
  },
  {
   "cell_type": "code",
   "execution_count": null,
   "metadata": {},
   "outputs": [],
   "source": [
    "# ✅ Apply Tokenization to Dataset\n",
    "tokenized_test_dataset = test_dataset.map(tokenize_function, batched=True, desc= \"Tokenizing Test Dataset\")"
   ]
  },
  {
   "cell_type": "code",
   "execution_count": null,
   "metadata": {},
   "outputs": [],
   "source": [
    "# ✅ Apply LoRA Configuration\n",
    "def apply_lora(model):\n",
    "    lora_config = LoraConfig(\n",
    "        r=8,  # ✅ Low-rank dimension\n",
    "        lora_alpha=16,\n",
    "        target_modules=[\"query\", \"value\"],  # ✅ Apply LoRA to attention layers\n",
    "        lora_dropout=0.1,\n",
    "        type=\"\"\n",
    "    )\n",
    "    return get_peft_model(model, lora_config).to(device)"
   ]
  },
  {
   "cell_type": "code",
   "execution_count": null,
   "metadata": {},
   "outputs": [],
   "source": [
    "# ✅ Load XLM-R Model and Apply LoRA\n",
    "model = AutoModelForMaskedLM.from_pretrained(model_name).to(device)\n",
    "model = apply_lora(model)"
   ]
  },
  {
   "cell_type": "code",
   "execution_count": null,
   "metadata": {},
   "outputs": [],
   "source": [
    "# ✅ Function to Check Which Layers Have LoRA Parameters\n",
    "def get_lora_layers(model):\n",
    "    lora_layers = {}\n",
    "    for name, param in model.named_parameters():\n",
    "        if \"lora\" in name.lower():  # ✅ LoRA layers contain \"lora\" in their names\n",
    "            lora_layers[name] = param.shape\n",
    "    return lora_layers"
   ]
  },
  {
   "cell_type": "code",
   "execution_count": null,
   "metadata": {},
   "outputs": [],
   "source": [
    "# ✅ Retrieve LoRA-Affected Layers\n",
    "lora_layers_info = get_lora_layers(model)\n",
    "df_lora_layers = pd.DataFrame(lora_layers_info.items(), columns=[\"Layer Name\", \"Shape\"])\n",
    "display(df_lora_layers)"
   ]
  },
  {
   "cell_type": "code",
   "execution_count": null,
   "metadata": {},
   "outputs": [],
   "source": [
    "train_agrs = {\n",
    "    \"warmup_steps\": 500,\n",
    "    \"weight_decay\": 0.01,\n",
    "    \"save_strategy\": \"epoch\",\n",
    "    \"save_total_limit\": 2,\n",
    "    \"fp16\": False,\n",
    "    \"bf16\": True,\n",
    "    \"eval_strategy\": \"epoch\",\n",
    "    \"load_best_model_at_end\": True,\n",
    "    \"metric_for_best_model\": \"loss\",\n",
    "    \"greater_is_better\": False,\n",
    "    \"logging_steps\": 1000,\n",
    "    \"optim\": \"adamw_torch_fused\",\n",
    "    \"auto_find_batch_size\": True,\n",
    "    \"disable_tqdm\": False,\n",
    "    \"label_names\": [\"labels\"],\n",
    "}"
   ]
  },
  {
   "cell_type": "code",
   "execution_count": null,
   "metadata": {},
   "outputs": [],
   "source": [
    "# ✅ Define Training Arguments\n",
    "training_args = TrainingArguments(\n",
    "    output_dir=f\"model-variants/results/XLM-R_BPE\",\n",
    "    per_device_train_batch_size=16,\n",
    "    per_device_eval_batch_size=16,\n",
    "    num_train_epochs=5,\n",
    "    learning_rate=3e-5,\n",
    "    warmup_steps=500,\n",
    "    weight_decay=0.01,\n",
    "    save_strategy=\"epoch\",\n",
    "    eval_strategy=\"epoch\",\n",
    "    save_total_limit=2,\n",
    "    fp16= False,\n",
    "    bf16= True,\n",
    "    logging_dir=\"logs/XLM-R_BPE\",\n",
    "    logging_steps=1000,\n",
    "    optim=\"adamw_torch_fused\",\n",
    "    load_best_model_at_end=True,\n",
    "    metric_for_best_model= \"loss\",\n",
    "    greater_is_better= False,\n",
    "    auto_find_batch_size= True,\n",
    "    disable_tqdm= False,\n",
    "    label_names= [\"labels\"],\n",
    ")"
   ]
  },
  {
   "cell_type": "code",
   "execution_count": null,
   "metadata": {},
   "outputs": [],
   "source": [
    "# ✅ Define Trainer\n",
    "trainer = Trainer(\n",
    "    model=model,\n",
    "    args=training_args,\n",
    "    train_dataset=tokenized_train_dataset,\n",
    "    eval_dataset=tokenized_test_dataset,\n",
    "    processing_class=xlmr_tokenizer,\n",
    "    callbacks=[EarlyStoppingCallback(early_stopping_patience=3)]\n",
    ")"
   ]
  },
  {
   "cell_type": "code",
   "execution_count": null,
   "metadata": {},
   "outputs": [],
   "source": [
    "# ✅ Train the Model\n",
    "trainer.train()"
   ]
  },
  {
   "cell_type": "code",
   "execution_count": null,
   "metadata": {},
   "outputs": [],
   "source": [
    "# ✅ Save the Trained Model and Tokenizer\n",
    "save_path = \"./models/XLM-R_BPE\"\n",
    "model.save_pretrained(save_path)\n",
    "xlmr_tokenizer.save_pretrained(save_path)\n",
    "print(f\"✅ Fine-tuned XLM-R on English-to-Burmese Parallel Data with SPT-BPE and LoRA saved at `{save_path}`.\")"
   ]
  }
 ],
 "metadata": {
  "kernelspec": {
   "display_name": "ms-thesis",
   "language": "python",
   "name": "python3"
  },
  "language_info": {
   "codemirror_mode": {
    "name": "ipython",
    "version": 3
   },
   "file_extension": ".py",
   "mimetype": "text/x-python",
   "name": "python",
   "nbconvert_exporter": "python",
   "pygments_lexer": "ipython3",
   "version": "3.10.16"
  }
 },
 "nbformat": 4,
 "nbformat_minor": 2
}
