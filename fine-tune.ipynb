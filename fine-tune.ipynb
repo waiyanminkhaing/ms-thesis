{
 "cells": [
  {
   "cell_type": "code",
   "execution_count": null,
   "metadata": {},
   "outputs": [],
   "source": [
    "# ✅ Install Required Libraries\n",
    "!pip install torch transformers sentencepiece datasets peft accelerate pandas"
   ]
  },
  {
   "cell_type": "code",
   "execution_count": null,
   "metadata": {},
   "outputs": [],
   "source": [
    "# 📌 Import Required Libraries\n",
    "import torch\n",
    "import pandas as pd\n",
    "import sentencepiece as spm\n",
    "from datasets import Dataset, load_dataset\n",
    "from transformers import AutoModelForMaskedLM, AutoTokenizer, Trainer, TrainingArguments, EarlyStoppingCallback\n",
    "from peft import LoraConfig, get_peft_model"
   ]
  },
  {
   "cell_type": "code",
   "execution_count": null,
   "metadata": {},
   "outputs": [],
   "source": [
    "# ✅ Check if GPU is Available\n",
    "device = torch.device(\"cuda\" if torch.cuda.is_available() else \"cpu\")\n",
    "print(f\"🚀 Using device: {device}\")"
   ]
  },
  {
   "cell_type": "code",
   "execution_count": null,
   "metadata": {},
   "outputs": [],
   "source": [
    "# ✅ Load and Split CSV Dataset\n",
    "dataset_path = \"model-variants/combined.csv\"\n",
    "df = pd.read_csv(dataset_path)"
   ]
  },
  {
   "cell_type": "code",
   "execution_count": null,
   "metadata": {},
   "outputs": [],
   "source": [
    "# ✅ Split into 80% train, 20% test\n",
    "train_df = df.sample(frac=0.8, random_state=42)\n",
    "test_df = df.drop(train_df.index)"
   ]
  },
  {
   "cell_type": "code",
   "execution_count": null,
   "metadata": {},
   "outputs": [],
   "source": [
    "# ✅ Convert to Hugging Face Dataset format\n",
    "train_dataset = Dataset.from_pandas(train_df.reset_index(drop=True))\n",
    "test_dataset = Dataset.from_pandas(test_df.reset_index(drop=True))"
   ]
  },
  {
   "cell_type": "code",
   "execution_count": null,
   "metadata": {},
   "outputs": [],
   "source": [
    "# ✅ Load Pretrained XLM-R Model & Tokenizer\n",
    "model_name = \"xlm-roberta-base\"\n",
    "xlmr_tokenizer = AutoTokenizer.from_pretrained(model_name)"
   ]
  },
  {
   "cell_type": "code",
   "execution_count": null,
   "metadata": {},
   "outputs": [],
   "source": [
    "# ✅ Load Pre-Trained SentencePiece Model (SPT-BPE)\n",
    "spt_bpe_model_path = \"spt/spt_bpe.model\"\n",
    "spt_bpe = spm.SentencePieceProcessor(model_file=spt_bpe_model_path)"
   ]
  },
  {
   "cell_type": "code",
   "execution_count": null,
   "metadata": {},
   "outputs": [],
   "source": [
    "# ✅ Tokenization Function with SentencePiece BPE\n",
    "def tokenize_function(examples):\n",
    "    # ✅ Apply SentencePiece BPE Tokenization\n",
    "    source_tokens = spt_bpe.encode(examples[\"source\"], out_type=str)\n",
    "    target_tokens = spt_bpe.encode(examples[\"target\"], out_type=str)\n",
    "    \n",
    "    # ✅ Convert SentencePiece Tokens to XLM-R Tokens\n",
    "    source_inputs = xlmr_tokenizer(\" \".join(source_tokens), padding=\"max_length\", truncation=True, max_length=512)\n",
    "    target_inputs = xlmr_tokenizer(\" \".join(target_tokens), padding=\"max_length\", truncation=True, max_length=512)\n",
    "\n",
    "    # ✅ Assign target tokens as labels for MLM-style learning\n",
    "    source_inputs[\"labels\"] = target_inputs[\"input_ids\"]\n",
    "\n",
    "    return source_inputs"
   ]
  },
  {
   "cell_type": "code",
   "execution_count": null,
   "metadata": {},
   "outputs": [],
   "source": [
    "# ✅ Apply Tokenization to Dataset\n",
    "tokenized_train_dataset = train_dataset.map(tokenize_function, batched=True, desc=\"Tokenizing Train Dataset\")\n",
    "tokenized_test_dataset = test_dataset.map(tokenize_function, batched=True, desc= \"Tokenizing Test Dataset\")"
   ]
  },
  {
   "cell_type": "code",
   "execution_count": null,
   "metadata": {},
   "outputs": [],
   "source": [
    "# ✅ Apply LoRA Configuration\n",
    "def apply_lora(model):\n",
    "    lora_config = LoraConfig(\n",
    "        r=8,  # ✅ Low-rank dimension\n",
    "        lora_alpha=16,\n",
    "        target_modules=[\"query\", \"value\"],  # ✅ Apply LoRA to attention layers\n",
    "        lora_dropout=0.1,\n",
    "        type=\"\"\n",
    "    )\n",
    "    return get_peft_model(model, lora_config).to(device)"
   ]
  },
  {
   "cell_type": "code",
   "execution_count": null,
   "metadata": {},
   "outputs": [],
   "source": [
    "# ✅ Load XLM-R Model and Apply LoRA\n",
    "model = AutoModelForMaskedLM.from_pretrained(model_name).to(device)\n",
    "model = apply_lora(model)"
   ]
  },
  {
   "cell_type": "code",
   "execution_count": null,
   "metadata": {},
   "outputs": [],
   "source": [
    "# ✅ Function to Check Which Layers Have LoRA Parameters\n",
    "def get_lora_layers(model):\n",
    "    lora_layers = {}\n",
    "    for name, param in model.named_parameters():\n",
    "        if \"lora\" in name.lower():  # ✅ LoRA layers contain \"lora\" in their names\n",
    "            lora_layers[name] = param.shape\n",
    "    return lora_layers"
   ]
  },
  {
   "cell_type": "code",
   "execution_count": null,
   "metadata": {},
   "outputs": [],
   "source": [
    "# ✅ Retrieve LoRA-Affected Layers\n",
    "lora_layers_info = get_lora_layers(model)\n",
    "df_lora_layers = pd.DataFrame(lora_layers_info.items(), columns=[\"Layer Name\", \"Shape\"])\n",
    "display(df_lora_layers)"
   ]
  },
  {
   "cell_type": "code",
   "execution_count": null,
   "metadata": {},
   "outputs": [],
   "source": [
    "train_agrs = {\n",
    "    \"warmup_steps\": 500,\n",
    "    \"weight_decay\": 0.01,\n",
    "    \"save_strategy\": \"epoch\",\n",
    "    \"save_total_limit\": 2,\n",
    "    \"fp16\": False,\n",
    "    \"bf16\": True,\n",
    "    \"eval_strategy\": \"epoch\",\n",
    "    \"load_best_model_at_end\": True,\n",
    "    \"metric_for_best_model\": \"loss\",\n",
    "    \"greater_is_better\": False,\n",
    "    \"logging_steps\": 1000,\n",
    "    \"optim\": \"adamw_torch_fused\",\n",
    "    \"auto_find_batch_size\": True,\n",
    "    \"disable_tqdm\": False,\n",
    "    \"label_names\": [\"labels\"],\n",
    "}"
   ]
  },
  {
   "cell_type": "code",
   "execution_count": null,
   "metadata": {},
   "outputs": [],
   "source": [
    "# ✅ Define Training Arguments\n",
    "training_args = TrainingArguments(\n",
    "    output_dir=f\"model-variants/results/XLM-R_BPE\",\n",
    "    per_device_train_batch_size=16,\n",
    "    per_device_eval_batch_size=16,\n",
    "    num_train_epochs=5,\n",
    "    learning_rate=3e-5,\n",
    "    warmup_steps=500,\n",
    "    weight_decay=0.01,\n",
    "    save_strategy=\"epoch\",\n",
    "    eval_strategy=\"epoch\",\n",
    "    save_total_limit=2,\n",
    "    fp16= False,\n",
    "    bf16= True,\n",
    "    logging_dir=\"logs/XLM-R_BPE\",\n",
    "    logging_steps=1000,\n",
    "    optim=\"adamw_torch_fused\",\n",
    "    load_best_model_at_end=True,\n",
    "    metric_for_best_model= \"loss\",\n",
    "    greater_is_better= False,\n",
    "    auto_find_batch_size= True,\n",
    "    disable_tqdm= False,\n",
    "    label_names= [\"labels\"],\n",
    ")"
   ]
  },
  {
   "cell_type": "code",
   "execution_count": null,
   "metadata": {},
   "outputs": [],
   "source": [
    "# ✅ Define Trainer\n",
    "trainer = Trainer(\n",
    "    model=model,\n",
    "    args=training_args,\n",
    "    train_dataset=tokenized_train_dataset,\n",
    "    eval_dataset=tokenized_test_dataset,\n",
    "    processing_class=xlmr_tokenizer,\n",
    "    callbacks=[EarlyStoppingCallback(early_stopping_patience=3)]\n",
    ")"
   ]
  },
  {
   "cell_type": "code",
   "execution_count": null,
   "metadata": {},
   "outputs": [],
   "source": [
    "# ✅ Train the Model\n",
    "trainer.train()"
   ]
  },
  {
   "cell_type": "code",
   "execution_count": null,
   "metadata": {},
   "outputs": [],
   "source": [
    "# ✅ Save the Trained Model and Tokenizer\n",
    "save_path = \"./models/XLM-R_BPE\"\n",
    "model.save_pretrained(save_path)\n",
    "xlmr_tokenizer.save_pretrained(save_path)\n",
    "print(f\"✅ Fine-tuned XLM-R on English-to-Burmese Parallel Data with SPT-BPE and LoRA saved at `{save_path}`.\")"
   ]
  }
 ],
 "metadata": {
  "kernelspec": {
   "display_name": "ms-thesis",
   "language": "python",
   "name": "python3"
  },
  "language_info": {
   "name": "python",
   "version": "3.10.16"
  }
 },
 "nbformat": 4,
 "nbformat_minor": 2
}
